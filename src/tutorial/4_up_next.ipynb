{
 "cells": [
  {
   "cell_type": "markdown",
   "id": "identical-antique",
   "metadata": {},
   "source": [
    "### Introduction\n",
    "\n",
    "The following notebooks will be much more condensed than the previous.\n",
    "\n",
    "We will cover the following at a high-level:\n",
    "\n",
    "**Substates** - Soar will create substates if it doesn't have the knowledge necessary to continue in the current state.\n",
    "- As an organizational tool. \n",
    "    You can use substates to organize your Soar program hierarchically.\n",
    "- As a planning tool.\n",
    "\n",
    "**Planning** - If we think of TODO finish\n",
    "- Instead of trying\n",
    "\n",
    "**Chunking** - A mechanism for learning. \n",
    "- If a Soar agent figures out it can fill a jug in a few simple steps, but it took 100 missteps to get there,\n",
    "    it should be able to learn from its experience to take the simplest search path in the future (TODO:REWORD)\n",
    "\n",
    "**Reinforcement Learning** - Another mechanism for learning. \n",
    "- Dynamically update preferences based on rewards.\n",
    "\n",
    "**Memory** \n",
    "- Memory won't be covered in these tutorials but is covered in the official Soar tutorials. \n",
    "\n",
    "Episodic Memory Tidbit (Soar book, p.23):\n",
    "\n",
    "> \"The recent extensions to Soar were motivated by the desire to replicable capabilities that are inherent to humans but missing from Soar.\n",
    "__Our work on episodic memory was inspired in part by the movie *Memento*, directed by Christopher Nolan and released in 2000.__ \n",
    "Though it isn't a scientific study of the effect of the loss of the ability to form new episodic memories, \n",
    "*Memento* is a relatively accurate depiction of the cognitive deficits faced by a human with anterograde amnesia.\n",
    "It dramatizes the effect of this loss, which prevents the protagonist from pursuing a productive life. \n",
    "Most AI systems are crippled in exactly the same way."
   ]
  }
 ],
 "metadata": {
  "kernelspec": {
   "display_name": "Python 3",
   "language": "python",
   "name": "python3"
  },
  "language_info": {
   "codemirror_mode": {
    "name": "ipython",
    "version": 3
   },
   "file_extension": ".py",
   "mimetype": "text/x-python",
   "name": "python",
   "nbconvert_exporter": "python",
   "pygments_lexer": "ipython3",
   "version": "3.6.9"
  }
 },
 "nbformat": 4,
 "nbformat_minor": 5
}
