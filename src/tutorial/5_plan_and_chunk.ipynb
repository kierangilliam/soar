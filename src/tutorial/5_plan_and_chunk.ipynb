{
 "cells": [
  {
   "cell_type": "markdown",
   "id": "split-reunion",
   "metadata": {},
   "source": [
    "# Planning & learning (chunking)\n",
    "\n",
    "Here we'll look at writing programs that plan and learn.\n",
    "Our program will plan with **look-ahead search** and learn with **chunking**.\n",
    "\n",
    "### Planning \n",
    "\"In simple look-ahead planning, your program will try out operators internally to evaluate them before it commits to applying them in the actual task.\"\n",
    "In the missionary problem, problem solving was internal so it didn't matter if you screwed up\n",
    "    You could just undo\n",
    "When you have external actions, however, this can matter as you can't undo\n",
    "\n",
    "### Learning \n",
    "After we do look-ahead search, we want our agent to *learn* from what it has found.\n",
    "\n",
    "We'll use chunking to build rules that \n",
    "> \"summarize the comparisons and evaluations that occur in the look-ahead\n",
    "search so that in the future the rules fire, making look-ahead search unnecessary - \n",
    "converting deliberation into reaction.\"\n",
    "\n",
    "Chunking - \"a form of explanation-based generalization\"\n",
    "    \"Speeds up the problem solving by creating search-control rules\"\n",
    "    \"Chunking creates other types of rules including elaborations, operator proposals, and operator applications\"\n",
    "\n",
    "### Planning & Learning\n",
    " > \"Soar does not create a step-by-step sequence of operators to apply blindly, \n",
    " but instead learns a set of context-dependent rules that prefer or avoid specific operators \n",
    " for states in the space. As a result, \n",
    " Soar’s plans are more flexible so that plans learned for one problem may transfer to part of a second problem. \n",
    " It also makes it so that Soar only plans when it needs to.\"\n",
    " \n",
    " TODO ^^ Need an example of this"
   ]
  },
  {
   "cell_type": "code",
   "execution_count": null,
   "id": "mediterranean-processing",
   "metadata": {},
   "outputs": [],
   "source": [
    "\n"
   ]
  }
 ],
 "metadata": {
  "kernelspec": {
   "display_name": "Python 3",
   "language": "python",
   "name": "python3"
  },
  "language_info": {
   "codemirror_mode": {
    "name": "ipython",
    "version": 3
   },
   "file_extension": ".py",
   "mimetype": "text/x-python",
   "name": "python",
   "nbconvert_exporter": "python",
   "pygments_lexer": "ipython3",
   "version": "3.6.9"
  }
 },
 "nbformat": 4,
 "nbformat_minor": 5
}
