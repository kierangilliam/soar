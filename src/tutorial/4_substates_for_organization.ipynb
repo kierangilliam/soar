{
 "cells": [
  {
   "cell_type": "markdown",
   "id": "identical-antique",
   "metadata": {},
   "source": [
    "### Introduction\n",
    "\n",
    "The following notebooks will be much more condensed than the previous.\n",
    "\n",
    "We will cover the following at a high-level:\n",
    "\n",
    "**Substates** - Soar will create substates if it doesn't have the knowledge necessary to continue in the current state.\n",
    "- As an organizational tool. \n",
    "    You can use substates to organize your Soar program hierarchically.\n",
    "- As a planning tool.\n",
    "\n",
    "**Planning** - If we think of TODO finish\n",
    "- Instead of trying\n",
    "\n",
    "**Chunking** - A mechanism for learning. \n",
    "- If a Soar agent figures out it can fill a jug in a few simple steps, but it took 100 missteps to get there,\n",
    "    it should be able to learn from its experience to take the simplest search path in the future (TODO:REWORD)\n",
    "\n",
    "**Reinforcement Learning** - Another mechanism for learning. \n",
    "- Dynamically update preferences based on rewards.\n",
    "\n",
    "**Memory** \n",
    "- Memory won't be covered in these tutorials but *is* covered in the official Soar tutorials. "
   ]
  },
  {
   "cell_type": "markdown",
   "id": "structural-artwork",
   "metadata": {},
   "source": [
    "TODO Go over tank soar highlights"
   ]
  }
 ],
 "metadata": {
  "kernelspec": {
   "display_name": "Python 3",
   "language": "python",
   "name": "python3"
  },
  "language_info": {
   "codemirror_mode": {
    "name": "ipython",
    "version": 3
   },
   "file_extension": ".py",
   "mimetype": "text/x-python",
   "name": "python",
   "nbconvert_exporter": "python",
   "pygments_lexer": "ipython3",
   "version": "3.6.9"
  }
 },
 "nbformat": 4,
 "nbformat_minor": 5
}
