{
 "cells": [
  {
   "cell_type": "markdown",
   "id": "81a123f4",
   "metadata": {},
   "source": [
    "# Introduction\n",
    "\n",
    "These notebooks are a translation of the Soar tutorials found [here](https://soar.eecs.umich.edu/Downloads) written by John Laird et al. \n",
    "\n",
    "The following, however, is aimed to abbreviate the original tutorials. \n",
    "For a more in-depth look at Soar, I recommend you read the original tutorials and check out \"The Soar Cognitive Architecture\" book.\n",
    "\n",
    "In these tutorials you will learn the basics of writing Soar programs. \n",
    "\n",
    "### Basics\n",
    "\n",
    "Soar knowledge is encoded as *if then* rules, or **productions**.\n",
    "\n",
    "The first agent we will write will check if it exists and print `hello world`.\n",
    "\n",
    "**Setup imports**"
   ]
  },
  {
   "cell_type": "code",
   "execution_count": 1,
   "id": "scientific-despite",
   "metadata": {},
   "outputs": [],
   "source": [
    "import sys\n",
    "sys.path.append('../../src/')\n",
    "\n",
    "from lib.pysoarlib import *\n",
    "import os\n",
    "\n",
    "curdir = os.path.abspath('')"
   ]
  },
  {
   "cell_type": "markdown",
   "id": "ongoing-findings",
   "metadata": {},
   "source": [
    "Soar exposes a python binding for ease of use. `pysoarlib` is a package created by `amininger`. You can find it here: https://github.com/amininger/pysoarlib. I have tweaked it a bit to work better in this container environment.\n",
    "\n",
    "We can create an agent using the SoarAgent class."
   ]
  },
  {
   "cell_type": "code",
   "execution_count": 2,
   "id": "bearing-phenomenon",
   "metadata": {},
   "outputs": [
    {
     "name": "stdout",
     "output_type": "stream",
     "text": [
      "--------- SOURCING PRODUCTIONS ------------\n",
      "Total: 1 production sourced.\n"
     ]
    }
   ],
   "source": [
    "rule_agent = SoarAgent(\n",
    "    agent_name='hello world',\n",
    "    write_to_stdout=True,\n",
    "    spawn_debugger=False,\n",
    "    agent_source=curdir + '/1_hello_world.soar',\n",
    ")"
   ]
  },
  {
   "cell_type": "markdown",
   "id": "noted-alpha",
   "metadata": {},
   "source": [
    "Next we can add a connector to see the stdout"
   ]
  },
  {
   "cell_type": "code",
   "execution_count": 3,
   "id": "thirty-mountain",
   "metadata": {},
   "outputs": [
    {
     "name": "stdout",
     "output_type": "stream",
     "text": [
      "Hello World\n",
      "System halted.\n",
      "Interrupt received.This Agent halted.\n"
     ]
    },
    {
     "data": {
      "text/plain": [
       "'--> 1 decision cycle executed. 1 rule fired. \\nAn agent halted during the run.'"
      ]
     },
     "execution_count": 3,
     "metadata": {},
     "output_type": "execute_result"
    }
   ],
   "source": [
    "rule_agent.add_connector('simple', AgentConnector(rule_agent))\n",
    "rule_agent.connect()\n",
    "rule_agent.execute_command('run')"
   ]
  },
  {
   "cell_type": "markdown",
   "id": "597e544a",
   "metadata": {},
   "source": [
    "## Coding the Agent\n",
    "\n",
    "The pseudocode of our agent is as follows:\n",
    "```\n",
    "If I exist, then write \"Hello World\" and halt.\n",
    "```\n",
    "\n",
    "Easy enough. \n",
    "Translating this to Soar will seem counter-intuitive at first, but after a few examples, you will get the hang of the syntax.\n",
    "\n",
    "In Soar, we write *productions* which are *if then* rules in essence.\n",
    "These rules are how we program Soar agents.\n",
    "\n",
    "`If <condition> Then <do action>`\n",
    "\n",
    "A Soar agent will check to see if the *condition* matches it's internal state of the world (it's **working memory**).\n",
    "\n",
    "Upon initialization, Soar will be populated with a few working memory **elements**. We can check to see if one of these *elements* is in *working memory*, thus creating the \"If I exist\" condition.\n",
    "\n",
    "`If I exist, then write \"Hello World\" and halt.` written as a Soar rule looks like this:"
   ]
  },
  {
   "cell_type": "code",
   "execution_count": 4,
   "id": "85c058b0",
   "metadata": {},
   "outputs": [],
   "source": [
    "hello_world_rule = \"\"\"\n",
    "sp {hello-world\n",
    "    (state <s> ^type state)\n",
    "-->\n",
    "    (write |Hello World|) \n",
    "    (halt)}\n",
    "\"\"\""
   ]
  },
  {
   "cell_type": "markdown",
   "id": "9668a8d3",
   "metadata": {},
   "source": [
    "### Breaking Down the Rule\n",
    "\n",
    "![hello world breakdown](img/1_hello-world-breakdown.png)\n",
    "\n",
    "Soar rules follow this generic template of `if <condition> then <action>`.\n",
    "\n",
    "```\n",
    "sp {rule*name\n",
    "   (condition)\n",
    "   (condition)\n",
    "   (condition)\n",
    "   ...\n",
    "-->\n",
    "   (action)\n",
    "   (action)\n",
    "   ....}\n",
    "```\n",
    "\n",
    "The rule name can be almost anything combination of numbers, letters, and dashes. \n",
    "The exception to this is that they cannot be named as a single letter followed by a number (`O3`, `S1`) because Soar reserves these for it's own use.\n",
    "But there's no reason you should write a rule name like that, rule names should be descriptive.\n",
    "\n",
    "#### Conditions\n",
    "\n",
    "Soar stores state in a few different ways. \n",
    "Right now, we will only focus on working memory. \n",
    "Soar can also store memories in a more persistent manner using its **episodic** or **semantic** memory modules.\n",
    "\n",
    "All conditions do is check whether or not some item is in (or absent from) working memory.\n",
    "Every condition in a rule has to be true in order for the rule to *fire*.\n",
    "\n",
    "#### Actions\n",
    "\n",
    "When rules fire, every action in that rule will be performed.\n",
    "Right now, the only action we're working with is printing to screen and halting.\n",
    "Later, we'll create actions that propose **operators**.\n",
    "We will use *operators* as a way to present different options as to what a Soar agent *can* do in a given state.\n",
    "We will then use **preferences** to denote what a Soar agent *should* do in a given state.\n",
    "More on this later.\n",
    "\n",
    "Most actions, will update the agent's working memory.\n",
    "\n",
    "## Working Memory\n",
    "\n",
    "Working memory is where short-term information is stored. \n",
    "It can contain anything that will be useful for your agent to accomplish a task, like the position of nearby objects, sensor data, the health of an enemy, current goals, etc.\n",
    "This information is scopped *globally* (like a global variable in Python or Java).\n",
    "\n",
    "Take, for example, the toy problem of stacking blocks. \n",
    "Our initial state is two blocks, `A` and `B`, stacked on a `table`.\n",
    "\n",
    "![Blocks](img/1_stacked-blocks.png)\n",
    "\n",
    "The state of this problem has three items: `Block 1`, `Block 2`, `Table 1`.\n",
    "`Block 1` is `ontop` of `Block 2`. `Block 2` is `ontop` of `Table 1`. \n",
    "`Block 1` is `blue` and has the name `A`, etc.\n",
    "\n",
    "We can represent this information in a graph structure.\n",
    "This is exactly how Soar represents information in working memory.\n",
    "\n",
    "![Graph](img/1_stacked-blocks-graph.png)\n",
    "\n",
    "Working memory consists of **elements** which are triples: \n",
    "\n",
    "(**indentifier**, **attribute**, **value**)\n",
    "\n",
    "**Indentifiers** are like nodes on a graph. \n",
    "They can have vertices connecting them to other nodes in the graph. \n",
    "These vertices are called **attributes** in Soar. \n",
    "They point to **values**.\n",
    "\n",
    "**Values** can be constants, like the string \"A\".\n",
    "\n",
    "(`B1`, `^name`, `A`)\n",
    "\n",
    "Or, **values** can themselves be **identifiers**.\n",
    "\n",
    "(`State 1`, `^block`, `B1`)\n",
    "\n",
    "A value that is a indentifier, can point to other identifiers. Constant values cannot.\n",
    "\n",
    "The problem you are trying to solve will dictate the exact structure of your working memory graph.\n",
    "You'll have the flexibility to design it however you want.\n",
    "\n",
    "Every Soar agent is initialized with the following working memory graph.\n",
    "\n",
    "![Initialized graph](img/1_initialized-wm-graph.png)\n",
    "\n",
    "`S1` is the initial Soar state. You can see three attributes on it, `io` (input output), `type`, and `superstate`. \n",
    "Since `S1` is the only state, there is no `superstate`. \n",
    "Nested states (called `substates` in Soar) are covered in later.\n",
    "\n",
    "You can ignore the `^io` attribute for now. \n",
    "We will cover that in the third tutorial notebook.\n",
    "\n",
    "#### Objects and Augmentations\n",
    "\n",
    "**Object** → Collection of working memory elements that share the same first identifier.\n",
    "\n",
    "> \"A working memory object usually represents something about the world, such as a block, a wall, a piece of food, or a cell on the board. The individual augmentations represent properties (such as color, size, or weight), or relations with other objects (such as on top of, behind, or inside).\"\n",
    "\n",
    "**Augmentation** → The working memory elements that make up an object.\n",
    "\n",
    "We can write objects as a list of all of its augmentations.\n",
    "The first item in the list is the identifier that all augmentations emanate from.\n",
    "\n",
    "```\n",
    "(S1 ^io I1 ^superstate nil ^type state)\n",
    "(I1 ^input-link I3 ^output-link I2)\n",
    "```"
   ]
  },
  {
   "cell_type": "markdown",
   "id": "91f41152",
   "metadata": {},
   "source": [
    "## Back to Hello World\n",
    "\n",
    "```\n",
    "If I exist, then write \"Hello World\" and halt.\n",
    "```\n",
    "\n",
    "We can use the fact that Soar agents will be initialized with the state `s1` to check if our agent \"exists\". \n",
    "Our condition will check if an *indentifier* with the *attribute* `^type` exists in working memory, where the *value* of `^type` is `state`. \n",
    "\n",
    "> The obvious condition to write would be `(s1 ^type state)`. \n",
    "However, `s1` is just an arbitrary symbol and might not be the identifier of that state every time the agent is run. \n",
    "Thus,we need a test that there is an identifier, but without testing a specific value. \n",
    "That is exactly what a variable does – it matches any symbol in working memory with the only constraint being that all occurrences of the same variable in a rule match the same symbol. \n",
    "\n",
    "\n",
    "A variable can match an identifier, an attribute, or a value. \n",
    "\n",
    "```\n",
    "<variable-identifier> ^attribute value\n",
    "identifier ^<variable-attribute> value\n",
    "identifier ^attribute <variable-value>\n",
    "```\n",
    "\n",
    "This is why our condition looked like this: `state <s> ^type state`.\n",
    "\n",
    "`<s>` is the variable. \n",
    "It could be named whatever. \n",
    "It was chosen as `s` because it is a state, but I could've called it `some-state`. \n",
    "The important part is that it is surrounded by `<>`.\n",
    "\n",
    "![Breakdown](img/1_hello-world-breakdown-2.png)\n",
    "\n",
    "Below is the full Soar program again.\n",
    "\n",
    "This time, we load a config file which will contain the settings:\n",
    "```\n",
    "spawn-debugger = false\n",
    "write-to-stdout = true\n",
    "# How much detail to print when sourcing files: none, summary, or full\n",
    "source-output = summary\n",
    "```\n",
    "\n",
    "Instead of giving `SoarAgent` a path to a Soar file, we will load the Soar program from a string (using `agent_raw`)."
   ]
  },
  {
   "cell_type": "code",
   "execution_count": 5,
   "id": "34a0dce2",
   "metadata": {},
   "outputs": [
    {
     "name": "stdout",
     "output_type": "stream",
     "text": [
      "--------- SOURCING PRODUCTIONS ------------\n",
      "Total: 1 production sourced.\n",
      "Hello World!!\n",
      "System halted.\n",
      "Interrupt received.This Agent halted.\n",
      "--> 1 decision cycle executed. 1 rule fired. \n",
      "An agent halted during the run.\n"
     ]
    }
   ],
   "source": [
    "hello_world_rule = \"\"\"\n",
    "sp {hello-world\n",
    "    (state <s> ^type state)\n",
    "-->\n",
    "    (write |Hello World!!|) \n",
    "    (halt)}\n",
    "\"\"\"\n",
    "\n",
    "my_agent = SoarAgent(\n",
    "    agent_raw=hello_world_rule,\n",
    "    config_filename='default.config',\n",
    "    root_dir=curdir,\n",
    ")\n",
    "\n",
    "my_agent.add_connector(\"hw-agent\", AgentConnector(my_agent))\n",
    "my_agent.connect()\n",
    "result = my_agent.execute_command(\"run\")\n",
    "\n",
    "print(result)"
   ]
  },
  {
   "cell_type": "markdown",
   "id": "975915c8",
   "metadata": {},
   "source": [
    "## Operators\n",
    "\n",
    "**Operators** will be our mechanism of performing actions.\n",
    "Actions can be performed by modifying the actual world (moving a block from one location to another) or modify internal state (\"thinking\" about moving a block from one location to the other).\n",
    "\n",
    "Examples of operator usage: remembering a health pack to pick up later, moving to a room, turning, keeping track of battery level, etc.\n",
    "\n",
    "We will use operators to shape the choices a Soar agent makes. \n",
    "Operators are managed by production rules and stored in working memory.\n",
    "\n",
    "The operator production rules will\n",
    "1. **Propose** operators that match a state (aka operator proposal rules).\n",
    "2. **Select** an operator and store it in working memory (operator selection rules).\n",
    "3. **Apply** that operator (operator application rules).\n",
    "\n",
    "The Soar agent will find all of the operator rules that match the current state and **propose** them.\n",
    "These are all of the rules that the agent *can* do. \n",
    "From these *proposals*, the agent then will **select** what it *should* do.\n",
    "Finally, there will be rules that check for a given operator in working memory and then take some action (print, halt, tell the agent to move, etc.)\n",
    "\n",
    "For example, a Mars rover agent *could* move forward, left, right, or backwards.\n",
    "This agent would propose four operators for doing so.\n",
    "If it's goal is to it's left, it *should* move in that direction. \n",
    "Therefore, it will *select* that direction.\n",
    "A working memory element will be created that stores the operator `move` and `^direction` `left`.\n",
    "Finally, that operator will be *applied* by another rule.\n",
    "\n",
    "This is how decision making happens in Soar.\n",
    "\n",
    "![Decision cycle](img/1_simple-decision-cycle.png)\n",
    "\n",
    "How do we weight the *should* criteria on an operator? We use **preferences**. Preferences will be covered in more detail later."
   ]
  },
  {
   "cell_type": "markdown",
   "id": "f4f0df3f",
   "metadata": {},
   "source": [
    "### Hello World Operator\n",
    "\n",
    "Let's break up the above hello world rule into two rules: a rule that will *propose* the `hello-world` *operator* and a rule that will *apply* a `hello-world` *operator*.\n",
    "\n",
    "In English, we'd write that rule as,\n",
    "```\n",
    "Propose*hello-world:\n",
    "If I exist, \n",
    "propose the hello-world operator.\n",
    "\n",
    "Apply*hello-world:\n",
    "If the hello-world operator is selected, \n",
    "write “Hello World” and halt.\n",
    "```\n",
    "\n",
    "To write the first rule in Soar, we can take the `If I exist` that we wrote earlier as the condition.\n",
    "The action will be to propose an operator.\n",
    "\n",
    "(It took me some time to fully wrap my head around the following syntax. If you're confused, I recommend to skim ahead a bit to see other examples. Then, come back to this point and re-read these sections in more depth.)\n",
    "\n",
    "![Propose hello world](img/1_propose-hello-world.png)\n",
    "\n",
    "To say that we *can* do something in Soar, we say that we *prefer* as *acceptable*. \n",
    "Later, you'll learn how to denote that one operator is better or worse than another.\n",
    "This is also handled with the concept of *preferences*; this shapes what a Soar agent *should* do.\n",
    "\n",
    "> The value of the preference, `<o>`, is a new variable that did not occur in the condition. \n",
    "When new variables appear in actions, Soar automatically creates a new identifier and uses it for all occurrences of that variable in the action. \n",
    "For example, if `o1` is the identifier created for `<o>`, then `(s1 ^operator o1 +)` and `(o1 ^name hello-world)` are added to working memory. \n",
    "For variables in actions, such as `<o>`, a different identifier is created each time a rule fires.\n",
    "\n",
    "In this case, Soar does not have to deliberate over which operator it should choose, as there is only one proposed operator.\n",
    "After this rule is proposed, it will be selected during the decision procedure. \n",
    "\n",
    "Next, the rule to apply a `hello-world` operator will fire.\n",
    "\n",
    "![Hello world application](img/1_hello-world-application.png)\n",
    "\n",
    "The action of this rule is the exact same as the first rule we wrote.\n",
    "The new part here is the condition, `check if there is a state, <s>, that has a link, ^operator, pointing to an identifier, <o>, with the name \"hello-world\"`."
   ]
  },
  {
   "cell_type": "code",
   "execution_count": 6,
   "id": "a756c22a",
   "metadata": {},
   "outputs": [
    {
     "name": "stdout",
     "output_type": "stream",
     "text": [
      "--------- SOURCING PRODUCTIONS ------------\n",
      "Total: 2 productions sourced.\n"
     ]
    }
   ],
   "source": [
    "hello_world_operator_rules = \"\"\"\n",
    "sp {propose*hello-world\n",
    "   (state <s> ^type state)\n",
    "-->\n",
    "   (<s> ^operator <o> +)\n",
    "   (<o> ^name hello-world)\n",
    "}\n",
    "\n",
    "sp {apply*hello-world\n",
    "   (state <s> ^operator <o>)\n",
    "   (<o> ^name hello-world)\n",
    "-->\n",
    "   (write |Hello World|)\n",
    "   (halt)\n",
    "}\n",
    "\"\"\"\n",
    "    \n",
    "hwo_agent = SoarAgent(\n",
    "    agent_raw=hello_world_operator_rules,\n",
    "    config_filename=curdir + '/default.config',\n",
    ")\n",
    "\n",
    "hwo_agent.execute_command('run');"
   ]
  },
  {
   "cell_type": "markdown",
   "id": "worth-browse",
   "metadata": {},
   "source": [
    "#### Examining Working Memory\n",
    "\n",
    "With `print`, we can view all the attributes and values that have `s1` as their identifier."
   ]
  },
  {
   "cell_type": "code",
   "execution_count": 7,
   "id": "internal-recommendation",
   "metadata": {},
   "outputs": [
    {
     "name": "stdout",
     "output_type": "stream",
     "text": [
      "print s1\n",
      "(S1 ^epmem E1 ^io I1 ^operator O1 ^operator O1 + ^reward-link R1 ^smem L1\n",
      "       ^superstate nil ^type state)\n"
     ]
    }
   ],
   "source": [
    "hwo_agent.execute_command(\"print s1\", print_res=True);"
   ]
  },
  {
   "cell_type": "markdown",
   "id": "twelve-heavy",
   "metadata": {},
   "source": [
    "The attributes `^io`, `^superstate`, and `^type` are created automatically before the program runs.\n",
    "The 'operator' attribute is created when the hello-world operator (o1) is selected."
   ]
  },
  {
   "cell_type": "markdown",
   "id": "union-wallace",
   "metadata": {},
   "source": [
    "Printing at a depth of 2 (we abbreviate `print` to `p`) gives us..."
   ]
  },
  {
   "cell_type": "code",
   "execution_count": 8,
   "id": "italic-northwest",
   "metadata": {},
   "outputs": [
    {
     "name": "stdout",
     "output_type": "stream",
     "text": [
      "p s1 -d 2\n",
      "(S1 ^epmem E1 ^io I1 ^operator O1 ^operator O1 + ^reward-link R1 ^smem L1\n",
      "       ^superstate nil ^type state)\n",
      "  (E1 ^command C1 ^present-id 1 ^result R2)\n",
      "  (I1 ^input-link I2 ^output-link I3)\n",
      "  (O1 ^name hello-world)\n",
      "  (L1 ^command C2 ^result R3)\n"
     ]
    }
   ],
   "source": [
    "hwo_agent.execute_command(\"p s1 -d 2\", print_res=True);"
   ]
  },
  {
   "cell_type": "markdown",
   "id": "recent-vancouver",
   "metadata": {},
   "source": [
    "#### View the augmentation of `o1`\n",
    "\n",
    "(Remember that augmentation refers to \"the working memory elements that make up an object.\")"
   ]
  },
  {
   "cell_type": "code",
   "execution_count": 9,
   "id": "exciting-calvin",
   "metadata": {},
   "outputs": [
    {
     "name": "stdout",
     "output_type": "stream",
     "text": [
      "p o1\n",
      "(O1 ^name hello-world)\n"
     ]
    }
   ],
   "source": [
    "hwo_agent.execute_command(\"p o1\", print_res=True);"
   ]
  },
  {
   "cell_type": "markdown",
   "id": "swiss-manufacturer",
   "metadata": {},
   "source": [
    "####  View the augmentation of `I1`\n",
    "\n",
    "We've glossed over the `I1` identifier up to this point but we can get a sense of what it does by checking out it's augmentations."
   ]
  },
  {
   "cell_type": "code",
   "execution_count": 10,
   "id": "enhanced-facility",
   "metadata": {},
   "outputs": [
    {
     "name": "stdout",
     "output_type": "stream",
     "text": [
      "p I1\n",
      "(I1 ^input-link I2 ^output-link I3)\n"
     ]
    }
   ],
   "source": [
    "hwo_agent.execute_command(\"p I1\", print_res=True);"
   ]
  },
  {
   "cell_type": "markdown",
   "id": "2382a579",
   "metadata": {},
   "source": [
    "There are two attributes: `^input-link` and `^output-link`\n",
    "\n",
    "`input-link`: where an agent's sensory information is available in WM\n",
    "\n",
    "`output-link`: where action commands must be created for the agent to move in its world\n",
    "\n",
    "We will use these in the third tutorial."
   ]
  }
 ],
 "metadata": {
  "kernelspec": {
   "display_name": "Python 3",
   "language": "python",
   "name": "python3"
  },
  "language_info": {
   "codemirror_mode": {
    "name": "ipython",
    "version": 3
   },
   "file_extension": ".py",
   "mimetype": "text/x-python",
   "name": "python",
   "nbconvert_exporter": "python",
   "pygments_lexer": "ipython3",
   "version": "3.6.9"
  }
 },
 "nbformat": 4,
 "nbformat_minor": 5
}
