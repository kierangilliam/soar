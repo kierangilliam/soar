{
 "cells": [
  {
   "cell_type": "code",
   "execution_count": 5,
   "id": "scientific-despite",
   "metadata": {},
   "outputs": [
    {
     "name": "stdout",
     "output_type": "stream",
     "text": [
      "/root/src/tutorial\n"
     ]
    }
   ],
   "source": [
    "import sys\n",
    "sys.path.append('../../src/')\n",
    "\n",
    "from lib.pysoarlib import *\n",
    "import os\n",
    "\n",
    "curdir = os.path.abspath('')"
   ]
  },
  {
   "cell_type": "code",
   "execution_count": null,
   "id": "subsequent-counter",
   "metadata": {},
   "outputs": [],
   "source": [
    "rule_agent = SoarAgent(\n",
    "    agent_name=\"hello world\",\n",
    "    write_to_stdout=True,\n",
    "    spawn_debugger=False,\n",
    "    agent_source=curdir + \"/1_hello_world.soar\",\n",
    "    # How much detail to print when sourcing files: none, summary, or full\n",
    "    # source_output=\"summary\",\n",
    ")\n",
    "# Add a connector to see the stdout from the agent\n",
    "rule_agent.add_connector(\"simple\", AgentConnector(rule_agent))\n",
    "rule_agent.connect()\n",
    "rule_agent.execute_command(\"run\")\n",
    "rule_agent.kill()\n",
    "\n",
    "print(\"\\n\\n3.2:: Running hello world operator...\")\n",
    "\n",
    "# this time, load in from a config file. it populates the fields\n",
    "# 'write_to_stdout' for us\n",
    "operator_agent = SoarAgent(\n",
    "    agent_source=\"1_hello_world_operator.soar\",\n",
    "    config_filename='default.config',\n",
    "    root_dir=curdir,\n",
    ")\n",
    "operator_agent.add_connector(\"hw-operator\", AgentConnector(operator_agent))\n",
    "operator_agent.connect()\n",
    "operator_agent.execute_command(\"run\")\n",
    "# view all attributes and values that have s1 as their identifier\n",
    "operator_agent.execute_command(\"print s1\", print_res=True)\n",
    "\n",
    "print(\"\"\"\n",
    "The attributes ^io, ^superstate, and ^type are created automatically before the program runs.\n",
    "The 'operator' attribute is created when the hello-world operator (o1) is selected.\n",
    "\"\"\")\n",
    "\n",
    "# Depth of 2\n",
    "operator_agent.execute_command(\"print s1 -d 2\", print_res=True)\n",
    "\n",
    "# print can be abbrevated to p\n",
    "print(\"\"\"\n",
    "View the augmentation of o1...\n",
    "\"\"\")\n",
    "operator_agent.execute_command(\"p o1\", print_res=True)\n",
    "\n",
    "print(\"\"\"\n",
    "View the augmentation of I1...\n",
    "  There are two attributes: ^input-link and ^output-link\n",
    "  input-link: where an agent's sensory information is available in WM\n",
    "  output-link: where action commands must be created for the agent to move in its world\n",
    "\"\"\")\n",
    "operator_agent.execute_command(\"p I1\", print_res=True)\n",
    "\n",
    "operator_agent.kill()\n"
   ]
  }
 ],
 "metadata": {
  "kernelspec": {
   "display_name": "Python 3",
   "language": "python",
   "name": "python3"
  },
  "language_info": {
   "codemirror_mode": {
    "name": "ipython",
    "version": 3
   },
   "file_extension": ".py",
   "mimetype": "text/x-python",
   "name": "python",
   "nbconvert_exporter": "python",
   "pygments_lexer": "ipython3",
   "version": "3.6.9"
  }
 },
 "nbformat": 4,
 "nbformat_minor": 5
}
