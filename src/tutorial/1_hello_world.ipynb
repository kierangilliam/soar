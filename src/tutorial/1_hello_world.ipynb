{
 "cells": [
  {
   "cell_type": "code",
   "execution_count": 1,
   "id": "scientific-despite",
   "metadata": {},
   "outputs": [],
   "source": [
    "import sys\n",
    "sys.path.append('../../src/')\n",
    "\n",
    "from lib.pysoarlib import *\n",
    "import os\n",
    "\n",
    "curdir = os.path.abspath('')"
   ]
  },
  {
   "cell_type": "markdown",
   "id": "ongoing-findings",
   "metadata": {},
   "source": [
    "Soar exposes a python binding for ease of use. `pysoarlib` is a package created by `amininger`. You can find it here: https://github.com/amininger/pysoarlib. I have tweaked it a bit to work better in this container.\n",
    "\n",
    "We can create an agent using the SoarAgent class."
   ]
  },
  {
   "cell_type": "code",
   "execution_count": 51,
   "id": "bearing-phenomenon",
   "metadata": {},
   "outputs": [
    {
     "name": "stdout",
     "output_type": "stream",
     "text": [
      "--------- SOURCING PRODUCTIONS ------------\n",
      "Total: 1 production sourced.\n"
     ]
    }
   ],
   "source": [
    "rule_agent = SoarAgent(\n",
    "    agent_name=\"hello world\",\n",
    "    write_to_stdout=True,\n",
    "    spawn_debugger=False,\n",
    "    agent_source=curdir + \"/1_hello_world.soar\",\n",
    ")"
   ]
  },
  {
   "cell_type": "markdown",
   "id": "noted-alpha",
   "metadata": {},
   "source": [
    "Next we can add a connector to see the stdout"
   ]
  },
  {
   "cell_type": "code",
   "execution_count": 52,
   "id": "thirty-mountain",
   "metadata": {},
   "outputs": [
    {
     "name": "stdout",
     "output_type": "stream",
     "text": [
      "[DEBUG] Run event handler 13\n",
      "Hello World\n",
      "System halted.\n",
      "Interrupt received.This Agent halted.\n",
      "--> 1 decision cycle executed. 1 rule fired. \n",
      "An agent halted during the run.\n"
     ]
    }
   ],
   "source": [
    "rule_agent.add_connector(\"simple\", AgentConnector(rule_agent))\n",
    "rule_agent.connect()\n",
    "result = rule_agent.execute_command(\"run\")\n",
    "\n",
    "print(result)"
   ]
  },
  {
   "cell_type": "markdown",
   "id": "charming-bridal",
   "metadata": {},
   "source": [
    "killing the agent will destory and remove the kernel"
   ]
  },
  {
   "cell_type": "code",
   "execution_count": 53,
   "id": "bulgarian-shower",
   "metadata": {},
   "outputs": [],
   "source": [
    "rule_agent.kill()"
   ]
  },
  {
   "cell_type": "markdown",
   "id": "aggressive-monte",
   "metadata": {},
   "source": [
    "In the default config file are the following "
   ]
  },
  {
   "cell_type": "markdown",
   "id": "strategic-tsunami",
   "metadata": {},
   "source": [
    "## 3.2\n",
    "#### Hello world operator\n",
    "\n",
    "This time, we load in from a config file. The file contains the following settings:\n",
    "\n",
    "`write-to-stdout = true`\n",
    "\n",
    "How much detail to print when sourcing files: none, summary, or full\n",
    "\n",
    "`source_output=\"summary\"`"
   ]
  },
  {
   "cell_type": "code",
   "execution_count": 54,
   "id": "subsequent-counter",
   "metadata": {},
   "outputs": [
    {
     "name": "stdout",
     "output_type": "stream",
     "text": [
      "--------- SOURCING PRODUCTIONS ------------\n",
      "Total: 2 productions sourced.\n"
     ]
    }
   ],
   "source": [
    "# this time, load in from a config file. it populates the fields\n",
    "# 'write_to_stdout' for us\n",
    "operator_agent = SoarAgent(\n",
    "    agent_source=\"1_hello_world_operator.soar\",\n",
    "    config_filename='default.config',\n",
    "    root_dir=curdir,\n",
    ")"
   ]
  },
  {
   "cell_type": "code",
   "execution_count": 55,
   "id": "military-mission",
   "metadata": {},
   "outputs": [
    {
     "name": "stdout",
     "output_type": "stream",
     "text": [
      "[DEBUG] Run event handler 13\n",
      "1:    O: O1 (hello-world)\n",
      "Hello World\n",
      "System halted.\n",
      "Interrupt received.This Agent halted.\n",
      "--> 1 decision cycle executed. 2 rules fired. \n",
      "An agent halted during the run.\n"
     ]
    }
   ],
   "source": [
    "operator_agent.add_connector(\"hw-operator\", AgentConnector(operator_agent))\n",
    "operator_agent.connect()\n",
    "result = operator_agent.execute_command(\"run\")\n",
    "\n",
    "print(result)"
   ]
  },
  {
   "cell_type": "markdown",
   "id": "worth-browse",
   "metadata": {},
   "source": [
    "With `print`, we can view all the attributes an dvalues that have `s1` as their identifier."
   ]
  },
  {
   "cell_type": "code",
   "execution_count": 56,
   "id": "internal-recommendation",
   "metadata": {},
   "outputs": [
    {
     "name": "stdout",
     "output_type": "stream",
     "text": [
      "print s1\n",
      "(S1 ^epmem E1 ^io I1 ^operator O1 ^operator O1 + ^reward-link R1 ^smem L1\n",
      "       ^superstate nil ^type state)\n"
     ]
    }
   ],
   "source": [
    "operator_agent.execute_command(\"print s1\", print_res=True);"
   ]
  },
  {
   "cell_type": "markdown",
   "id": "twelve-heavy",
   "metadata": {},
   "source": [
    "The attributes `^io`, `^superstate`, and `^type` are created automatically before the program runs.\n",
    "The 'operator' attribute is created when the hello-world operator (o1) is selected."
   ]
  },
  {
   "cell_type": "markdown",
   "id": "union-wallace",
   "metadata": {},
   "source": [
    "Printing at a depth of 2 (we abbreviate `print` to `p`)"
   ]
  },
  {
   "cell_type": "code",
   "execution_count": 57,
   "id": "italic-northwest",
   "metadata": {},
   "outputs": [
    {
     "name": "stdout",
     "output_type": "stream",
     "text": [
      "p s1 -d 2\n",
      "(S1 ^epmem E1 ^io I1 ^operator O1 ^operator O1 + ^reward-link R1 ^smem L1\n",
      "       ^superstate nil ^type state)\n",
      "  (E1 ^command C1 ^present-id 1 ^result R2)\n",
      "  (I1 ^input-link I2 ^output-link I3)\n",
      "  (O1 ^name hello-world)\n",
      "  (L1 ^command C2 ^result R3)\n"
     ]
    }
   ],
   "source": [
    "operator_agent.execute_command(\"p s1 -d 2\", print_res=True);"
   ]
  },
  {
   "cell_type": "markdown",
   "id": "interstate-stadium",
   "metadata": {},
   "source": [
    "View the augmentation of `o1`"
   ]
  },
  {
   "cell_type": "code",
   "execution_count": 58,
   "id": "exciting-calvin",
   "metadata": {},
   "outputs": [
    {
     "name": "stdout",
     "output_type": "stream",
     "text": [
      "p o1\n",
      "(O1 ^name hello-world)\n"
     ]
    }
   ],
   "source": [
    "operator_agent.execute_command(\"p o1\", print_res=True);"
   ]
  },
  {
   "cell_type": "markdown",
   "id": "recent-vancouver",
   "metadata": {},
   "source": [
    "#### View the augmentation of `o1`\n",
    "\n",
    "TODO: define augmentation\n",
    "\n",
    "There are two attributes: ^input-link and ^output-link\n",
    "\n",
    "`input-link`: where an agent's sensory information is available in WM\n",
    "\n",
    "`output-link`: where action commands must be created for the agent to move in its world"
   ]
  },
  {
   "cell_type": "code",
   "execution_count": 59,
   "id": "homeless-basket",
   "metadata": {},
   "outputs": [
    {
     "name": "stdout",
     "output_type": "stream",
     "text": [
      "p o1\n",
      "(O1 ^name hello-world)\n"
     ]
    }
   ],
   "source": [
    "operator_agent.execute_command(\"p o1\", print_res=True);"
   ]
  },
  {
   "cell_type": "markdown",
   "id": "swiss-manufacturer",
   "metadata": {},
   "source": [
    "####  View the augmentation of `I1`\n",
    "\n",
    "There are two attributes: `^input-link` and `^output-link`\n",
    "\n",
    "`input-link`: where an agent's sensory information is available in WM\n",
    "\n",
    "`output-link`: where action commands must be created for the agent to move in its world"
   ]
  },
  {
   "cell_type": "code",
   "execution_count": 60,
   "id": "enhanced-facility",
   "metadata": {},
   "outputs": [
    {
     "name": "stdout",
     "output_type": "stream",
     "text": [
      "p I1\n",
      "(I1 ^input-link I2 ^output-link I3)\n"
     ]
    }
   ],
   "source": [
    "operator_agent.execute_command(\"p I1\", print_res=True);"
   ]
  },
  {
   "cell_type": "markdown",
   "id": "functioning-prophet",
   "metadata": {},
   "source": [
    "## Custom agent"
   ]
  },
  {
   "cell_type": "code",
   "execution_count": 7,
   "id": "international-interpretation",
   "metadata": {},
   "outputs": [
    {
     "name": "stdout",
     "output_type": "stream",
     "text": [
      "--------- SOURCING PRODUCTIONS ------------\n",
      "Total: 2 productions sourced.\n",
      "[DEBUG] Run event handler 13\n",
      "1:    O: O1 (hello-world)\n",
      "Hello World\n",
      "System halted.\n",
      "Interrupt received.This Agent halted.\n"
     ]
    }
   ],
   "source": [
    "agent_raw = \"\"\"\n",
    "sp {propose*hello-world\n",
    "   (state <s> ^type state)\n",
    "-->\n",
    "   (<s> ^operator <o> +)\n",
    "   (<o> ^name hello-world)\n",
    "}\n",
    "\n",
    "sp {apply*hello-world\n",
    "   (state <s> ^operator <o>)\n",
    "   (<o> ^name hello-world)\n",
    "-->\n",
    "   (write |Hello World|)\n",
    "   (halt)\n",
    "}\n",
    "\"\"\"\n",
    "    \n",
    "custom_agent = SoarAgent(\n",
    "    agent_raw=agent_raw,\n",
    "    config_filename=curdir + '/default.config',\n",
    ")\n",
    "a"
   ]
  },
  {
   "cell_type": "code",
   "execution_count": null,
   "id": "centered-foundation",
   "metadata": {},
   "outputs": [],
   "source": []
  }
 ],
 "metadata": {
  "kernelspec": {
   "display_name": "Python 3",
   "language": "python",
   "name": "python3"
  },
  "language_info": {
   "codemirror_mode": {
    "name": "ipython",
    "version": 3
   },
   "file_extension": ".py",
   "mimetype": "text/x-python",
   "name": "python",
   "nbconvert_exporter": "python",
   "pygments_lexer": "ipython3",
   "version": "3.6.9"
  }
 },
 "nbformat": 4,
 "nbformat_minor": 5
}
